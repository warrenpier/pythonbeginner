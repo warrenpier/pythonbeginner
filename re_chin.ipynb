{
 "cells": [
  {
   "cell_type": "code",
   "execution_count": 32,
   "id": "1c66f556-2496-40ff-b229-3ee34c3aa189",
   "metadata": {},
   "outputs": [],
   "source": [
    "file = r'https://raw.githubusercontent.com/clueple/free_resources/master/sample_data.csv'"
   ]
  },
  {
   "cell_type": "code",
   "execution_count": 33,
   "id": "231fe4c1-843d-419b-9980-d01940bb3a08",
   "metadata": {},
   "outputs": [],
   "source": [
    "from pandas import read_csv, to_datetime\n",
    "import numpy as np\n",
    "from matplotlib import pyplot as plt "
   ]
  },
  {
   "cell_type": "code",
   "execution_count": 34,
   "id": "17bc3b9c-bba4-44eb-bded-b8808dfc3a9d",
   "metadata": {},
   "outputs": [],
   "source": [
    "df = read_csv(file)"
   ]
  },
  {
   "cell_type": "code",
   "execution_count": 35,
   "id": "accd0989-8f8e-49fb-bc00-f7475702e823",
   "metadata": {},
   "outputs": [
    {
     "data": {
      "text/html": [
       "<div>\n",
       "<style scoped>\n",
       "    .dataframe tbody tr th:only-of-type {\n",
       "        vertical-align: middle;\n",
       "    }\n",
       "\n",
       "    .dataframe tbody tr th {\n",
       "        vertical-align: top;\n",
       "    }\n",
       "\n",
       "    .dataframe thead th {\n",
       "        text-align: right;\n",
       "    }\n",
       "</style>\n",
       "<table border=\"1\" class=\"dataframe\">\n",
       "  <thead>\n",
       "    <tr style=\"text-align: right;\">\n",
       "      <th></th>\n",
       "      <th>Open</th>\n",
       "      <th>High</th>\n",
       "      <th>Low</th>\n",
       "      <th>Close</th>\n",
       "      <th>Volume</th>\n",
       "    </tr>\n",
       "    <tr>\n",
       "      <th>Date</th>\n",
       "      <th></th>\n",
       "      <th></th>\n",
       "      <th></th>\n",
       "      <th></th>\n",
       "      <th></th>\n",
       "    </tr>\n",
       "  </thead>\n",
       "  <tbody>\n",
       "    <tr>\n",
       "      <th>2022-01-25</th>\n",
       "      <td>24203.0</td>\n",
       "      <td>24358.0</td>\n",
       "      <td>23996.0</td>\n",
       "      <td>24238.0</td>\n",
       "      <td>169458</td>\n",
       "    </tr>\n",
       "    <tr>\n",
       "      <th>2022-01-26</th>\n",
       "      <td>24428.0</td>\n",
       "      <td>24477.0</td>\n",
       "      <td>24121.0</td>\n",
       "      <td>24317.0</td>\n",
       "      <td>141282</td>\n",
       "    </tr>\n",
       "    <tr>\n",
       "      <th>2022-01-27</th>\n",
       "      <td>24100.0</td>\n",
       "      <td>24100.0</td>\n",
       "      <td>23569.0</td>\n",
       "      <td>23840.0</td>\n",
       "      <td>119772</td>\n",
       "    </tr>\n",
       "    <tr>\n",
       "      <th>2022-01-28</th>\n",
       "      <td>23900.0</td>\n",
       "      <td>23909.0</td>\n",
       "      <td>23549.0</td>\n",
       "      <td>23612.0</td>\n",
       "      <td>6968</td>\n",
       "    </tr>\n",
       "    <tr>\n",
       "      <th>2022-01-31</th>\n",
       "      <td>23585.0</td>\n",
       "      <td>23958.0</td>\n",
       "      <td>23426.0</td>\n",
       "      <td>23862.0</td>\n",
       "      <td>59520</td>\n",
       "    </tr>\n",
       "  </tbody>\n",
       "</table>\n",
       "</div>"
      ],
      "text/plain": [
       "               Open     High      Low    Close  Volume\n",
       "Date                                                  \n",
       "2022-01-25  24203.0  24358.0  23996.0  24238.0  169458\n",
       "2022-01-26  24428.0  24477.0  24121.0  24317.0  141282\n",
       "2022-01-27  24100.0  24100.0  23569.0  23840.0  119772\n",
       "2022-01-28  23900.0  23909.0  23549.0  23612.0    6968\n",
       "2022-01-31  23585.0  23958.0  23426.0  23862.0   59520"
      ]
     },
     "execution_count": 35,
     "metadata": {},
     "output_type": "execute_result"
    }
   ],
   "source": [
    "df['Date'] = to_datetime(df['Date'], format='%Y-%m-%d')\n",
    "df.set_index('Date', inplace=True)\n",
    "df.tail()"
   ]
  },
  {
   "cell_type": "code",
   "execution_count": 36,
   "id": "7d3a8e89-1bbd-4386-a861-080cc3fa7c74",
   "metadata": {},
   "outputs": [],
   "source": [
    "import string\n",
    "from pathlib import Path"
   ]
  },
  {
   "cell_type": "code",
   "execution_count": 37,
   "id": "a44301bb-4770-469e-a89c-4dba29f93b21",
   "metadata": {},
   "outputs": [],
   "source": [
    "text_file = r'f:/character_string.txt'\n"
   ]
  },
  {
   "cell_type": "code",
   "execution_count": 38,
   "id": "f8206e67-a47a-41c3-8029-965584c4ffff",
   "metadata": {},
   "outputs": [],
   "source": [
    "def read_txt(file):\n",
    "    data = Path(file).read_text(encoding='utf-8')\n",
    "    return data"
   ]
  },
  {
   "cell_type": "code",
   "execution_count": 39,
   "id": "8242844e-54a4-4b91-94b2-6cbabfba8b11",
   "metadata": {},
   "outputs": [],
   "source": [
    "p = read_txt(text_file)\n"
   ]
  },
  {
   "cell_type": "code",
   "execution_count": 40,
   "id": "696650f8-09fb-41f1-a307-2b29db38cddc",
   "metadata": {},
   "outputs": [],
   "source": [
    "import re"
   ]
  },
  {
   "cell_type": "code",
   "execution_count": 41,
   "id": "c9281dfd-153e-4338-b60f-052bc728cb95",
   "metadata": {},
   "outputs": [
    {
     "data": {
      "text/plain": [
       "'桑普多利亞總裁馬可蘭納在新聞發布會上對公司未來的情況進行了評估：“我擔心圍繞各個主題的所有這些媒體主義可能會損害桑普多利亞。我不希望一些買家離開. 理解，我知道的程序並沒有確定精確的時間。這是一個我們沒有指揮的過程，我不能保證任何事情。對我們來說，總是很難繼續下去，他們越早到達，越早解決很多問題。這方面我不確定。。但我只能感謝 Banca Sistema 和 Banca Macquarie 以及幫助我們的員工和供應商，沒有這些因素，我們不會有今天。”'"
      ]
     },
     "execution_count": 41,
     "metadata": {},
     "output_type": "execute_result"
    }
   ],
   "source": [
    "p"
   ]
  },
  {
   "cell_type": "code",
   "execution_count": 42,
   "id": "1021508e-44d0-4f2d-a42d-98aca92f1542",
   "metadata": {},
   "outputs": [
    {
     "data": {
      "text/plain": [
       "'桑普多利亞總裁馬可蘭納在新聞發布會上對公司未來的情況進行了評估\\n“我擔心圍繞各個主題的所有這些媒體主義可能會損害桑普多利亞\\n我不希望一些買家離開. 理解\\n我知道的程序並沒有確定精確的時間\\n這是一個我們沒有指揮的過程\\n我不能保證任何事情\\n對我們來說\\n總是很難繼續下去\\n他們越早到達\\n越早解決很多問題\\n這方面我不確定\\n\\n但我只能感謝 Banca Sistema 和 Banca Macquarie 以及幫助我們的員工和供應商\\n沒有這些因素\\n我們不會有今天\\n”'"
      ]
     },
     "execution_count": 42,
     "metadata": {},
     "output_type": "execute_result"
    }
   ],
   "source": [
    "sp = re.sub(r\"[：，。！\\n]\", \"\\n\",p) #make sure the punctuation is in Chinese format (not the normal English ones)\n",
    "sp"
   ]
  },
  {
   "cell_type": "code",
   "execution_count": 43,
   "id": "f86a4983-7c8b-4081-8afa-543e4e97b400",
   "metadata": {},
   "outputs": [
    {
     "name": "stdout",
     "output_type": "stream",
     "text": [
      "桑普多利亞總裁馬可蘭納在新聞發布會上對公司未來的情況進行了評估\n",
      "“我擔心圍繞各個主題的所有這些媒體主義可能會損害桑普多利亞\n",
      "我不希望一些買家離開. 理解\n",
      "我知道的程序並沒有確定精確的時間\n",
      "這是一個我們沒有指揮的過程\n",
      "我不能保證任何事情\n",
      "對我們來說\n",
      "總是很難繼續下去\n",
      "他們越早到達\n",
      "越早解決很多問題\n",
      "這方面我不確定\n",
      "\n",
      "但我只能感謝 Banca Sistema 和 Banca Macquarie 以及幫助我們的員工和供應商\n",
      "沒有這些因素\n",
      "我們不會有今天\n",
      "”\n"
     ]
    }
   ],
   "source": [
    "print(sp)"
   ]
  },
  {
   "cell_type": "code",
   "execution_count": null,
   "id": "1d51a6bb-a843-4fef-8652-943bf3cde3c0",
   "metadata": {},
   "outputs": [],
   "source": []
  }
 ],
 "metadata": {
  "kernelspec": {
   "display_name": "Python 3 (ipykernel)",
   "language": "python",
   "name": "python3"
  },
  "language_info": {
   "codemirror_mode": {
    "name": "ipython",
    "version": 3
   },
   "file_extension": ".py",
   "mimetype": "text/x-python",
   "name": "python",
   "nbconvert_exporter": "python",
   "pygments_lexer": "ipython3",
   "version": "3.9.7"
  }
 },
 "nbformat": 4,
 "nbformat_minor": 5
}
